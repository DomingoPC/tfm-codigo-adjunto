{
 "cells": [
  {
   "cell_type": "markdown",
   "metadata": {},
   "source": [
    "# Carga de datos inicial\n",
    "\n",
    "Construcción de la muestra que usaremos como conjunto de entrenamiento y de la que usaremos como validación. Se construyen seleccionando los casos en 'stream'.\n",
    "\n",
    "También hemos exportado los datos a parquet."
   ]
  },
  {
   "cell_type": "code",
   "execution_count": 4,
   "metadata": {},
   "outputs": [],
   "source": [
    "import numpy as np\n",
    "import pandas as pd\n",
    "import os\n",
    "import random\n",
    "import re\n",
    "import funciones_auxiliares as f\n",
    "import pyarrow as pa\n",
    "import pyarrow.parquet as pq"
   ]
  },
  {
   "cell_type": "code",
   "execution_count": 2,
   "metadata": {},
   "outputs": [
    {
     "data": {
      "text/html": [
       "<div>\n",
       "<style scoped>\n",
       "    .dataframe tbody tr th:only-of-type {\n",
       "        vertical-align: middle;\n",
       "    }\n",
       "\n",
       "    .dataframe tbody tr th {\n",
       "        vertical-align: top;\n",
       "    }\n",
       "\n",
       "    .dataframe thead th {\n",
       "        text-align: right;\n",
       "    }\n",
       "</style>\n",
       "<table border=\"1\" class=\"dataframe\">\n",
       "  <thead>\n",
       "    <tr style=\"text-align: right;\">\n",
       "      <th></th>\n",
       "      <th>Transaction unique identifier</th>\n",
       "      <th>Price</th>\n",
       "      <th>Date of Transfer</th>\n",
       "      <th>Postcode</th>\n",
       "      <th>Property Type</th>\n",
       "      <th>Old/New</th>\n",
       "      <th>Duration</th>\n",
       "      <th>PAON</th>\n",
       "      <th>SAON</th>\n",
       "      <th>Street</th>\n",
       "      <th>Locality</th>\n",
       "      <th>Town/City</th>\n",
       "      <th>District</th>\n",
       "      <th>County</th>\n",
       "      <th>PPD Category Type</th>\n",
       "      <th>Record Status - monthly file only</th>\n",
       "    </tr>\n",
       "  </thead>\n",
       "  <tbody>\n",
       "    <tr>\n",
       "      <th>0</th>\n",
       "      <td>{940736E4-9649-4080-B74D-1DA6A8A60FA2}</td>\n",
       "      <td>35000</td>\n",
       "      <td>1995-01-01 00:00</td>\n",
       "      <td>PL2 1PH</td>\n",
       "      <td>T</td>\n",
       "      <td>N</td>\n",
       "      <td>F</td>\n",
       "      <td>62</td>\n",
       "      <td>NaN</td>\n",
       "      <td>ALEXANDRA ROAD</td>\n",
       "      <td>FORD</td>\n",
       "      <td>PLYMOUTH</td>\n",
       "      <td>PLYMOUTH</td>\n",
       "      <td>DEVON</td>\n",
       "      <td>A</td>\n",
       "      <td>A</td>\n",
       "    </tr>\n",
       "    <tr>\n",
       "      <th>1</th>\n",
       "      <td>{E32B0A70-13E1-4F34-8E38-4D7950245171}</td>\n",
       "      <td>50000</td>\n",
       "      <td>1995-01-01 00:00</td>\n",
       "      <td>BS1 6XF</td>\n",
       "      <td>F</td>\n",
       "      <td>N</td>\n",
       "      <td>L</td>\n",
       "      <td>WEARE COURT</td>\n",
       "      <td>7.0</td>\n",
       "      <td>CANADA WAY</td>\n",
       "      <td>BRISTOL</td>\n",
       "      <td>BRISTOL</td>\n",
       "      <td>BRISTOL</td>\n",
       "      <td>AVON</td>\n",
       "      <td>A</td>\n",
       "      <td>A</td>\n",
       "    </tr>\n",
       "  </tbody>\n",
       "</table>\n",
       "</div>"
      ],
      "text/plain": [
       "            Transaction unique identifier  Price  Date of Transfer Postcode  \\\n",
       "0  {940736E4-9649-4080-B74D-1DA6A8A60FA2}  35000  1995-01-01 00:00  PL2 1PH   \n",
       "1  {E32B0A70-13E1-4F34-8E38-4D7950245171}  50000  1995-01-01 00:00  BS1 6XF   \n",
       "\n",
       "  Property Type Old/New Duration         PAON  SAON          Street Locality  \\\n",
       "0             T       N        F           62   NaN  ALEXANDRA ROAD     FORD   \n",
       "1             F       N        L  WEARE COURT   7.0      CANADA WAY  BRISTOL   \n",
       "\n",
       "  Town/City  District County PPD Category Type  \\\n",
       "0  PLYMOUTH  PLYMOUTH  DEVON                 A   \n",
       "1   BRISTOL   BRISTOL   AVON                 A   \n",
       "\n",
       "  Record Status - monthly file only  \n",
       "0                                 A  \n",
       "1                                 A  "
      ]
     },
     "execution_count": 2,
     "metadata": {},
     "output_type": "execute_result"
    }
   ],
   "source": [
    "pd.read_csv(\"..\\\\data\\\\Por fecha\\\\UK_Property_Price_Data_1995.csv\", \n",
    "header=0, \n",
    "sep=',', nrows=3).head(2)"
   ]
  },
  {
   "cell_type": "markdown",
   "metadata": {},
   "source": [
    "De aquí podemos sacar el tipo de las columnas, con lo que se acelera mucho la carga en demanda de las columnas de estos ficheros:"
   ]
  },
  {
   "cell_type": "code",
   "execution_count": 10,
   "metadata": {},
   "outputs": [],
   "source": [
    "columns_dtype = {'Transaction unique identifier' : np.dtype(str),\n",
    "                 'Price' : np.dtype(int),\n",
    "                 'Date of Transfer' : np.dtype(str),\n",
    "                 'Postcode' : np.dtype(str),\n",
    "                 'Property Type' : np.dtype(str),\n",
    "                 'Old/New' : np.dtype(str),\n",
    "                 'Duration' : np.dtype(str),\n",
    "                 'PAON' : np.dtype(str),\n",
    "                 'SAON' : np.dtype(str),\n",
    "                 'Street' : np.dtype(str),\n",
    "                 'Locality' : np.dtype(str),\n",
    "                 'Town/City' : np.dtype(str),\n",
    "                 'District' : np.dtype(str),\n",
    "                 'County' : np.dtype(str),\n",
    "                 'PPD Category Type' : np.dtype(str),\n",
    "                 'Record Status - monthly file only' : np.dtype(str)}"
   ]
  },
  {
   "cell_type": "code",
   "execution_count": 4,
   "metadata": {},
   "outputs": [
    {
     "data": {
      "text/html": [
       "<div>\n",
       "<style scoped>\n",
       "    .dataframe tbody tr th:only-of-type {\n",
       "        vertical-align: middle;\n",
       "    }\n",
       "\n",
       "    .dataframe tbody tr th {\n",
       "        vertical-align: top;\n",
       "    }\n",
       "\n",
       "    .dataframe thead th {\n",
       "        text-align: right;\n",
       "    }\n",
       "</style>\n",
       "<table border=\"1\" class=\"dataframe\">\n",
       "  <thead>\n",
       "    <tr style=\"text-align: right;\">\n",
       "      <th></th>\n",
       "      <th>Transaction.unique.identifier</th>\n",
       "      <th>Price</th>\n",
       "      <th>Date.of.Transfer</th>\n",
       "      <th>Postcode</th>\n",
       "      <th>Property.Type</th>\n",
       "      <th>Old.New</th>\n",
       "      <th>Duration</th>\n",
       "      <th>PAON</th>\n",
       "      <th>SAON</th>\n",
       "      <th>Street</th>\n",
       "      <th>Locality</th>\n",
       "      <th>Town.City</th>\n",
       "      <th>District</th>\n",
       "      <th>County</th>\n",
       "      <th>PPD.Category.Type</th>\n",
       "      <th>Record.Status...monthly.file.only</th>\n",
       "    </tr>\n",
       "  </thead>\n",
       "  <tbody>\n",
       "    <tr>\n",
       "      <th>0</th>\n",
       "      <td>{B487E3FB-3907-4D42-9A45-C907175616A8}</td>\n",
       "      <td>49000</td>\n",
       "      <td>1999-01-01 00:00</td>\n",
       "      <td>CT11 7BB</td>\n",
       "      <td>Adosado</td>\n",
       "      <td>Segunda_mano</td>\n",
       "      <td>Propiedad</td>\n",
       "      <td>56</td>\n",
       "      <td>NaN</td>\n",
       "      <td>FAIRFIELD ROAD</td>\n",
       "      <td>NaN</td>\n",
       "      <td>RAMSGATE</td>\n",
       "      <td>THANET</td>\n",
       "      <td>KENT</td>\n",
       "      <td>A</td>\n",
       "      <td>A</td>\n",
       "    </tr>\n",
       "  </tbody>\n",
       "</table>\n",
       "</div>"
      ],
      "text/plain": [
       "            Transaction.unique.identifier  Price  Date.of.Transfer  Postcode  \\\n",
       "0  {B487E3FB-3907-4D42-9A45-C907175616A8}  49000  1999-01-01 00:00  CT11 7BB   \n",
       "\n",
       "  Property.Type       Old.New   Duration PAON SAON          Street Locality  \\\n",
       "0       Adosado  Segunda_mano  Propiedad   56  NaN  FAIRFIELD ROAD      NaN   \n",
       "\n",
       "  Town.City District County PPD.Category.Type  \\\n",
       "0  RAMSGATE   THANET   KENT                 A   \n",
       "\n",
       "  Record.Status...monthly.file.only  \n",
       "0                                 A  "
      ]
     },
     "execution_count": 4,
     "metadata": {},
     "output_type": "execute_result"
    }
   ],
   "source": [
    "example = f.load_date(1999, nrows=-1, columns_dtype=columns_dtype, percentage=0.01, seed=33)\n",
    "\n",
    "example.head(1)"
   ]
  },
  {
   "cell_type": "markdown",
   "metadata": {},
   "source": [
    "Generamos muestra de los datos:"
   ]
  },
  {
   "cell_type": "code",
   "execution_count": 7,
   "metadata": {},
   "outputs": [],
   "source": [
    "for year in np.arange(1995, 2024, 1):\n",
    "    f.load_date(year, columns_dtype=columns_dtype, percentage=0.05, seed=33).to_csv(\n",
    "        path_or_buf=f'../data/sample/{year}.csv', sep=','\n",
    "    )"
   ]
  },
  {
   "cell_type": "markdown",
   "metadata": {},
   "source": [
    "Separar en Train y Test:\n",
    "\n",
    "+ Train: datos desde el 1995 al 2020\n",
    "\n",
    "+ Test: datos desde el 2021 al 2023"
   ]
  },
  {
   "cell_type": "code",
   "execution_count": 14,
   "metadata": {},
   "outputs": [],
   "source": [
    "# Train set\n",
    "for year in np.arange(1995, 2021, 1):\n",
    "    f.load_date(year, columns_dtype=columns_dtype, percentage=0.1, seed=1).to_csv(\n",
    "        path_or_buf=f'../data/train/{year}.csv', sep=','\n",
    "    )"
   ]
  },
  {
   "cell_type": "code",
   "execution_count": 15,
   "metadata": {},
   "outputs": [],
   "source": [
    "# Test set\n",
    "for year in np.arange(2021, 2024, 1):\n",
    "    f.load_date(year, columns_dtype=columns_dtype, percentage=0.1, seed=1).to_csv(\n",
    "        path_or_buf=f'../data/test/{year}.csv', sep=','\n",
    "    )"
   ]
  },
  {
   "cell_type": "markdown",
   "metadata": {},
   "source": [
    "## Formato parquet\n",
    "\n",
    "https://stackoverflow.com/questions/26124417/how-to-convert-a-csv-file-to-parquet"
   ]
  },
  {
   "cell_type": "code",
   "execution_count": 12,
   "metadata": {},
   "outputs": [
    {
     "name": "stdout",
     "output_type": "stream",
     "text": [
      "Chunk 0\n",
      "Chunk 1\n",
      "Chunk 2\n"
     ]
    }
   ],
   "source": [
    "# csv_file = '/path/to/my.tsv'\n",
    "parquet_file = '../data/parquet/test/test.parquet'\n",
    "# chunksize = 100_000\n",
    "\n",
    "# csv_stream = pd.read_csv(csv_file, sep='\\t', chunksize=chunksize, low_memory=False)\n",
    "\n",
    "for i,year in enumerate(np.arange(2021, 2024, 1)):\n",
    "    print(f\"\\rChunk{i}\", end=\"\")\n",
    "    chunk = f.load_date(year, columns_dtype=columns_dtype)\n",
    "    if i == 0:\n",
    "        # Guess the schema of the CSV file from the first chunk\n",
    "        parquet_schema = pa.Table.from_pandas(df=chunk).schema\n",
    "        # Open a Parquet file for writing\n",
    "        parquet_writer = pq.ParquetWriter(parquet_file, parquet_schema, compression='snappy')\n",
    "    # Write CSV chunk to the parquet file\n",
    "    table = pa.Table.from_pandas(chunk, schema=parquet_schema)\n",
    "    parquet_writer.write_table(table)\n",
    "\n",
    "parquet_writer.close()"
   ]
  },
  {
   "cell_type": "code",
   "execution_count": 13,
   "metadata": {},
   "outputs": [
    {
     "name": "stdout",
     "output_type": "stream",
     "text": [
      "Chunk25"
     ]
    }
   ],
   "source": [
    "parquet_file = '../data/parquet/train/train.parquet'\n",
    "\n",
    "for i,year in enumerate(np.arange(1995, 2021, 1)):\n",
    "    print(f\"\\rChunk {i}\", end=\"\")\n",
    "    chunk = f.load_date(year, columns_dtype=columns_dtype)\n",
    "    if i == 0:\n",
    "        # Guess the schema of the CSV file from the first chunk\n",
    "        parquet_schema = pa.Table.from_pandas(df=chunk).schema\n",
    "        # Open a Parquet file for writing\n",
    "        parquet_writer = pq.ParquetWriter(parquet_file, parquet_schema, compression='snappy')\n",
    "    # Write CSV chunk to the parquet file\n",
    "    table = pa.Table.from_pandas(chunk, schema=parquet_schema)\n",
    "    parquet_writer.write_table(table)\n",
    "\n",
    "parquet_writer.close()"
   ]
  }
 ],
 "metadata": {
  "kernelspec": {
   "display_name": "base",
   "language": "python",
   "name": "python3"
  },
  "language_info": {
   "codemirror_mode": {
    "name": "ipython",
    "version": 3
   },
   "file_extension": ".py",
   "mimetype": "text/x-python",
   "name": "python",
   "nbconvert_exporter": "python",
   "pygments_lexer": "ipython3",
   "version": "3.11.5"
  }
 },
 "nbformat": 4,
 "nbformat_minor": 2
}
